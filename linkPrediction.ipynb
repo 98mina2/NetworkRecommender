{
 "cells": [
  {
   "cell_type": "markdown",
   "metadata": {},
   "source": [
    "# Similarity-Based Link Prediction on Yelp Recommender"
   ]
  },
  {
   "cell_type": "code",
   "execution_count": 1,
   "metadata": {},
   "outputs": [],
   "source": [
    "from random import choices\n",
    "from itertools import combinations\n",
    "from collections import defaultdict \n",
    "\n",
    "import numpy as np\n",
    "import pandas as pd\n",
    "\n",
    "import networkx as nx\n",
    "\n",
    "import matplotlib.pyplot as plt\n",
    "import seaborn as sns\n",
    "%matplotlib inline"
   ]
  },
  {
   "cell_type": "markdown",
   "metadata": {},
   "source": [
    "## Data Import"
   ]
  },
  {
   "cell_type": "code",
   "execution_count": 2,
   "metadata": {},
   "outputs": [
    {
     "name": "stdout",
     "output_type": "stream",
     "text": [
      "There are 68054 business records with 84 total features.\n"
     ]
    },
    {
     "data": {
      "text/html": [
       "<div>\n",
       "<style scoped>\n",
       "    .dataframe tbody tr th:only-of-type {\n",
       "        vertical-align: middle;\n",
       "    }\n",
       "\n",
       "    .dataframe tbody tr th {\n",
       "        vertical-align: top;\n",
       "    }\n",
       "\n",
       "    .dataframe thead th {\n",
       "        text-align: right;\n",
       "    }\n",
       "</style>\n",
       "<table border=\"1\" class=\"dataframe\">\n",
       "  <thead>\n",
       "    <tr style=\"text-align: right;\">\n",
       "      <th></th>\n",
       "      <th>original_index</th>\n",
       "      <th>business_id</th>\n",
       "      <th>name</th>\n",
       "      <th>address</th>\n",
       "      <th>city</th>\n",
       "      <th>state</th>\n",
       "      <th>postal_code</th>\n",
       "      <th>latitude</th>\n",
       "      <th>longitude</th>\n",
       "      <th>stars</th>\n",
       "      <th>...</th>\n",
       "      <th>music_live</th>\n",
       "      <th>music_video</th>\n",
       "      <th>music_karaoke</th>\n",
       "      <th>hours_Monday</th>\n",
       "      <th>hours_Tuesday</th>\n",
       "      <th>hours_Wednesday</th>\n",
       "      <th>hours_Thursday</th>\n",
       "      <th>hours_Friday</th>\n",
       "      <th>hours_Saturday</th>\n",
       "      <th>hours_Sunday</th>\n",
       "    </tr>\n",
       "  </thead>\n",
       "  <tbody>\n",
       "    <tr>\n",
       "      <th>0</th>\n",
       "      <td>3</td>\n",
       "      <td>MTSW4McQd7CbVtyjqoe9mw</td>\n",
       "      <td>St Honore Pastries</td>\n",
       "      <td>935 Race St</td>\n",
       "      <td>Philadelphia</td>\n",
       "      <td>PA</td>\n",
       "      <td>19107</td>\n",
       "      <td>39.955505</td>\n",
       "      <td>-75.155564</td>\n",
       "      <td>4.0</td>\n",
       "      <td>...</td>\n",
       "      <td>None</td>\n",
       "      <td>None</td>\n",
       "      <td>None</td>\n",
       "      <td>7:0-20:0</td>\n",
       "      <td>7:0-20:0</td>\n",
       "      <td>7:0-20:0</td>\n",
       "      <td>7:0-20:0</td>\n",
       "      <td>7:0-21:0</td>\n",
       "      <td>7:0-21:0</td>\n",
       "      <td>7:0-21:0</td>\n",
       "    </tr>\n",
       "    <tr>\n",
       "      <th>1</th>\n",
       "      <td>4</td>\n",
       "      <td>mWMc6_wTdE0EUBKIGXDVfA</td>\n",
       "      <td>Perkiomen Valley Brewery</td>\n",
       "      <td>101 Walnut St</td>\n",
       "      <td>Green Lane</td>\n",
       "      <td>PA</td>\n",
       "      <td>18054</td>\n",
       "      <td>40.338183</td>\n",
       "      <td>-75.471659</td>\n",
       "      <td>4.5</td>\n",
       "      <td>...</td>\n",
       "      <td>None</td>\n",
       "      <td>None</td>\n",
       "      <td>None</td>\n",
       "      <td>closed</td>\n",
       "      <td>closed</td>\n",
       "      <td>14:0-22:0</td>\n",
       "      <td>16:0-22:0</td>\n",
       "      <td>12:0-22:0</td>\n",
       "      <td>12:0-22:0</td>\n",
       "      <td>12:0-18:0</td>\n",
       "    </tr>\n",
       "    <tr>\n",
       "      <th>2</th>\n",
       "      <td>5</td>\n",
       "      <td>CF33F8-E6oudUQ46HnavjQ</td>\n",
       "      <td>Sonic Drive-In</td>\n",
       "      <td>615 S Main St</td>\n",
       "      <td>Ashland City</td>\n",
       "      <td>TN</td>\n",
       "      <td>37015</td>\n",
       "      <td>36.269593</td>\n",
       "      <td>-87.058943</td>\n",
       "      <td>2.0</td>\n",
       "      <td>...</td>\n",
       "      <td>None</td>\n",
       "      <td>None</td>\n",
       "      <td>None</td>\n",
       "      <td>0:0-0:0</td>\n",
       "      <td>6:0-22:0</td>\n",
       "      <td>6:0-22:0</td>\n",
       "      <td>6:0-22:0</td>\n",
       "      <td>9:0-0:0</td>\n",
       "      <td>9:0-22:0</td>\n",
       "      <td>8:0-22:0</td>\n",
       "    </tr>\n",
       "  </tbody>\n",
       "</table>\n",
       "<p>3 rows × 84 columns</p>\n",
       "</div>"
      ],
      "text/plain": [
       "   original_index             business_id                      name  \\\n",
       "0               3  MTSW4McQd7CbVtyjqoe9mw        St Honore Pastries   \n",
       "1               4  mWMc6_wTdE0EUBKIGXDVfA  Perkiomen Valley Brewery   \n",
       "2               5  CF33F8-E6oudUQ46HnavjQ            Sonic Drive-In   \n",
       "\n",
       "         address          city state postal_code   latitude  longitude  stars  \\\n",
       "0    935 Race St  Philadelphia    PA       19107  39.955505 -75.155564    4.0   \n",
       "1  101 Walnut St    Green Lane    PA       18054  40.338183 -75.471659    4.5   \n",
       "2  615 S Main St  Ashland City    TN       37015  36.269593 -87.058943    2.0   \n",
       "\n",
       "   ...  music_live  music_video music_karaoke hours_Monday  hours_Tuesday  \\\n",
       "0  ...        None         None          None     7:0-20:0       7:0-20:0   \n",
       "1  ...        None         None          None       closed         closed   \n",
       "2  ...        None         None          None      0:0-0:0       6:0-22:0   \n",
       "\n",
       "  hours_Wednesday hours_Thursday hours_Friday hours_Saturday hours_Sunday  \n",
       "0        7:0-20:0       7:0-20:0     7:0-21:0       7:0-21:0     7:0-21:0  \n",
       "1       14:0-22:0      16:0-22:0    12:0-22:0      12:0-22:0    12:0-18:0  \n",
       "2        6:0-22:0       6:0-22:0      9:0-0:0       9:0-22:0     8:0-22:0  \n",
       "\n",
       "[3 rows x 84 columns]"
      ]
     },
     "metadata": {},
     "output_type": "display_data"
    },
    {
     "data": {
      "text/html": [
       "<div>\n",
       "<style scoped>\n",
       "    .dataframe tbody tr th:only-of-type {\n",
       "        vertical-align: middle;\n",
       "    }\n",
       "\n",
       "    .dataframe tbody tr th {\n",
       "        vertical-align: top;\n",
       "    }\n",
       "\n",
       "    .dataframe thead th {\n",
       "        text-align: right;\n",
       "    }\n",
       "</style>\n",
       "<table border=\"1\" class=\"dataframe\">\n",
       "  <thead>\n",
       "    <tr style=\"text-align: right;\">\n",
       "      <th></th>\n",
       "      <th>stars</th>\n",
       "      <th>review_count</th>\n",
       "    </tr>\n",
       "  </thead>\n",
       "  <tbody>\n",
       "    <tr>\n",
       "      <th>count</th>\n",
       "      <td>68054.000000</td>\n",
       "      <td>68054.000000</td>\n",
       "    </tr>\n",
       "    <tr>\n",
       "      <th>mean</th>\n",
       "      <td>3.563949</td>\n",
       "      <td>74.619861</td>\n",
       "    </tr>\n",
       "    <tr>\n",
       "      <th>std</th>\n",
       "      <td>0.851437</td>\n",
       "      <td>169.900997</td>\n",
       "    </tr>\n",
       "    <tr>\n",
       "      <th>min</th>\n",
       "      <td>1.000000</td>\n",
       "      <td>5.000000</td>\n",
       "    </tr>\n",
       "    <tr>\n",
       "      <th>25%</th>\n",
       "      <td>3.000000</td>\n",
       "      <td>11.000000</td>\n",
       "    </tr>\n",
       "    <tr>\n",
       "      <th>50%</th>\n",
       "      <td>3.500000</td>\n",
       "      <td>27.000000</td>\n",
       "    </tr>\n",
       "    <tr>\n",
       "      <th>75%</th>\n",
       "      <td>4.000000</td>\n",
       "      <td>73.000000</td>\n",
       "    </tr>\n",
       "    <tr>\n",
       "      <th>max</th>\n",
       "      <td>5.000000</td>\n",
       "      <td>7568.000000</td>\n",
       "    </tr>\n",
       "  </tbody>\n",
       "</table>\n",
       "</div>"
      ],
      "text/plain": [
       "              stars  review_count\n",
       "count  68054.000000  68054.000000\n",
       "mean       3.563949     74.619861\n",
       "std        0.851437    169.900997\n",
       "min        1.000000      5.000000\n",
       "25%        3.000000     11.000000\n",
       "50%        3.500000     27.000000\n",
       "75%        4.000000     73.000000\n",
       "max        5.000000   7568.000000"
      ]
     },
     "execution_count": 2,
     "metadata": {},
     "output_type": "execute_result"
    }
   ],
   "source": [
    "busi_df = pd.read_feather(\"data/yelp_business_cleaned.feather\")\n",
    "print(f\"There are {busi_df.shape[0]} business records with {busi_df.shape[1]} total features.\")\n",
    "display(busi_df.head(3))\n",
    "busi_df[['stars', 'review_count']].describe()"
   ]
  },
  {
   "cell_type": "code",
   "execution_count": 3,
   "metadata": {},
   "outputs": [
    {
     "data": {
      "text/plain": [
       "state\n",
       "AB     3048\n",
       "AZ     3579\n",
       "CA     1695\n",
       "DE     1171\n",
       "FL    11476\n",
       "ID     1798\n",
       "IL     1198\n",
       "IN     5374\n",
       "LA     4888\n",
       "MO     5366\n",
       "NJ     4216\n",
       "NV     2462\n",
       "PA    16170\n",
       "TN     5613\n",
       "Name: original_index, dtype: int64"
      ]
     },
     "execution_count": 3,
     "metadata": {},
     "output_type": "execute_result"
    }
   ],
   "source": [
    "busi_df.groupby('state')['original_index'].count()"
   ]
  },
  {
   "cell_type": "markdown",
   "metadata": {},
   "source": [
    "### Filter only businesses in PA and FL for computation due to resource contraints"
   ]
  },
  {
   "cell_type": "code",
   "execution_count": 4,
   "metadata": {
    "collapsed": true
   },
   "outputs": [],
   "source": [
    "busi_df = busi_df[busi_df['state'].isin(['PA', 'FL'])]"
   ]
  },
  {
   "cell_type": "code",
   "execution_count": 25,
   "metadata": {},
   "outputs": [
    {
     "name": "stdout",
     "output_type": "stream",
     "text": [
      "There are 27646 businesses left in the data\n"
     ]
    }
   ],
   "source": [
    "print(f\"There are {len(busi_df)} businesses left in the data\")"
   ]
  },
  {
   "cell_type": "markdown",
   "metadata": {},
   "source": [
    "### Get review data"
   ]
  },
  {
   "cell_type": "code",
   "execution_count": null,
   "metadata": {
    "collapsed": true
   },
   "outputs": [],
   "source": [
    "review_df = pd.read_feather(\"data/yelp_review.feather\")\n",
    "review_df = review_df.loc[review_df['business_id'].isin(busi_df['business_id'])].copy()\n",
    "print(f\"There are {review_df.shape[0]} review records with {review_df.shape[1]} total features.\")\n",
    "display(review_df.head(3))"
   ]
  },
  {
   "cell_type": "markdown",
   "metadata": {},
   "source": [
    "# Network Construction\n",
    "\n",
    "In this network, vertices represent businesses, and an edge between vertex $i$ and $j$ indicates that these two businesses are similar. We will determine whether there is an edge between $i$ and $j$ based on the number of users who have visited these two places (and thus wrote a review on them). If more users visit both places, then it is likely that the two businesses are somehow similar.\n",
    "\n",
    "## Edge determination\n",
    "\n",
    "For any business $i$ and $j$, count the number of users who have been to these $2$ places based on the review data.\n",
    "\n",
    "\n",
    "First, for each user, find all business ids that they have reviewed on."
   ]
  },
  {
   "cell_type": "code",
   "execution_count": 6,
   "metadata": {},
   "outputs": [
    {
     "name": "stdout",
     "output_type": "stream",
     "text": [
      "There're 588266 users\n"
     ]
    },
    {
     "data": {
      "text/html": [
       "<div>\n",
       "<style scoped>\n",
       "    .dataframe tbody tr th:only-of-type {\n",
       "        vertical-align: middle;\n",
       "    }\n",
       "\n",
       "    .dataframe tbody tr th {\n",
       "        vertical-align: top;\n",
       "    }\n",
       "\n",
       "    .dataframe thead th {\n",
       "        text-align: right;\n",
       "    }\n",
       "</style>\n",
       "<table border=\"1\" class=\"dataframe\">\n",
       "  <thead>\n",
       "    <tr style=\"text-align: right;\">\n",
       "      <th></th>\n",
       "      <th>business_id</th>\n",
       "    </tr>\n",
       "    <tr>\n",
       "      <th>user_id</th>\n",
       "      <th></th>\n",
       "    </tr>\n",
       "  </thead>\n",
       "  <tbody>\n",
       "    <tr>\n",
       "      <th>---2PmXbF47D870stH1jqA</th>\n",
       "      <td>[hKameFsaXh9g8WQbv593UA, hKameFsaXh9g8WQbv593U...</td>\n",
       "    </tr>\n",
       "    <tr>\n",
       "      <th>---r61b7EpVPkb4UVme5tA</th>\n",
       "      <td>[fGYnHzFr1z2kv7bPRW6VMA, 5UN1B7XqZohGuULLNlWL1...</td>\n",
       "    </tr>\n",
       "    <tr>\n",
       "      <th>--0kuuLmuYBe3Rmu0Iycww</th>\n",
       "      <td>[qcguEeAMP0XwFLYqhwX2hg, Y5S_AUSW8EjswVf9JAi-0w]</td>\n",
       "    </tr>\n",
       "    <tr>\n",
       "      <th>--13zE3NaRvLSrmfTVnFJA</th>\n",
       "      <td>[U2y7fsqDgxAXskoJNVxbwg]</td>\n",
       "    </tr>\n",
       "    <tr>\n",
       "      <th>--1oZcRo9-QKOtTqREKB6g</th>\n",
       "      <td>[p_qSQwShIgQnNxGcajI4-w, QHWYlmVbLC3K6eglWoHVvA]</td>\n",
       "    </tr>\n",
       "    <tr>\n",
       "      <th>...</th>\n",
       "      <td>...</td>\n",
       "    </tr>\n",
       "    <tr>\n",
       "      <th>zzwYLnmIvj8C7wJmRjtkRA</th>\n",
       "      <td>[j-qtdD55OLfSqfsWuQTDJg, pXRrRf8fDv6yU3xp1E25hA]</td>\n",
       "    </tr>\n",
       "    <tr>\n",
       "      <th>zzx7J3zheFF3zf5YYfDAMg</th>\n",
       "      <td>[pm1bStJuol5XmxE_atZhCQ]</td>\n",
       "    </tr>\n",
       "    <tr>\n",
       "      <th>zzxCh58BAynQseL1rUlJqg</th>\n",
       "      <td>[tOPDno-cu5NQO56FeOBg-g]</td>\n",
       "    </tr>\n",
       "    <tr>\n",
       "      <th>zzzCg-_lpyYE82TlJCdwdw</th>\n",
       "      <td>[LttC5xNMFcgOg3bt_MlXTg]</td>\n",
       "    </tr>\n",
       "    <tr>\n",
       "      <th>zzzMBVS73g3ZJ7qL8JyhiA</th>\n",
       "      <td>[3FKIev7ZB_KE6XHL9sUJCg]</td>\n",
       "    </tr>\n",
       "  </tbody>\n",
       "</table>\n",
       "<p>588266 rows × 1 columns</p>\n",
       "</div>"
      ],
      "text/plain": [
       "                                                              business_id\n",
       "user_id                                                                  \n",
       "---2PmXbF47D870stH1jqA  [hKameFsaXh9g8WQbv593UA, hKameFsaXh9g8WQbv593U...\n",
       "---r61b7EpVPkb4UVme5tA  [fGYnHzFr1z2kv7bPRW6VMA, 5UN1B7XqZohGuULLNlWL1...\n",
       "--0kuuLmuYBe3Rmu0Iycww   [qcguEeAMP0XwFLYqhwX2hg, Y5S_AUSW8EjswVf9JAi-0w]\n",
       "--13zE3NaRvLSrmfTVnFJA                           [U2y7fsqDgxAXskoJNVxbwg]\n",
       "--1oZcRo9-QKOtTqREKB6g   [p_qSQwShIgQnNxGcajI4-w, QHWYlmVbLC3K6eglWoHVvA]\n",
       "...                                                                   ...\n",
       "zzwYLnmIvj8C7wJmRjtkRA   [j-qtdD55OLfSqfsWuQTDJg, pXRrRf8fDv6yU3xp1E25hA]\n",
       "zzx7J3zheFF3zf5YYfDAMg                           [pm1bStJuol5XmxE_atZhCQ]\n",
       "zzxCh58BAynQseL1rUlJqg                           [tOPDno-cu5NQO56FeOBg-g]\n",
       "zzzCg-_lpyYE82TlJCdwdw                           [LttC5xNMFcgOg3bt_MlXTg]\n",
       "zzzMBVS73g3ZJ7qL8JyhiA                           [3FKIev7ZB_KE6XHL9sUJCg]\n",
       "\n",
       "[588266 rows x 1 columns]"
      ]
     },
     "execution_count": 6,
     "metadata": {},
     "output_type": "execute_result"
    }
   ],
   "source": [
    "visit_by_user = review_df.groupby('user_id')['business_id'].apply(list).to_frame()\n",
    "print(f\"There're {len(visit_by_user)} users\")\n",
    "visit_by_user"
   ]
  },
  {
   "cell_type": "markdown",
   "metadata": {},
   "source": [
    "Delete users that have reviewed only on one business (since they don't contribute to the existence of an edge)."
   ]
  },
  {
   "cell_type": "code",
   "execution_count": 7,
   "metadata": {},
   "outputs": [
    {
     "name": "stdout",
     "output_type": "stream",
     "text": [
      "There're 252118 users left after the filter\n"
     ]
    },
    {
     "data": {
      "text/html": [
       "<div>\n",
       "<style scoped>\n",
       "    .dataframe tbody tr th:only-of-type {\n",
       "        vertical-align: middle;\n",
       "    }\n",
       "\n",
       "    .dataframe tbody tr th {\n",
       "        vertical-align: top;\n",
       "    }\n",
       "\n",
       "    .dataframe thead th {\n",
       "        text-align: right;\n",
       "    }\n",
       "</style>\n",
       "<table border=\"1\" class=\"dataframe\">\n",
       "  <thead>\n",
       "    <tr style=\"text-align: right;\">\n",
       "      <th></th>\n",
       "      <th>user_id</th>\n",
       "      <th>business_id</th>\n",
       "    </tr>\n",
       "  </thead>\n",
       "  <tbody>\n",
       "    <tr>\n",
       "      <th>0</th>\n",
       "      <td>---2PmXbF47D870stH1jqA</td>\n",
       "      <td>[hKameFsaXh9g8WQbv593UA, hKameFsaXh9g8WQbv593U...</td>\n",
       "    </tr>\n",
       "    <tr>\n",
       "      <th>1</th>\n",
       "      <td>---r61b7EpVPkb4UVme5tA</td>\n",
       "      <td>[fGYnHzFr1z2kv7bPRW6VMA, 5UN1B7XqZohGuULLNlWL1...</td>\n",
       "    </tr>\n",
       "    <tr>\n",
       "      <th>2</th>\n",
       "      <td>--0kuuLmuYBe3Rmu0Iycww</td>\n",
       "      <td>[qcguEeAMP0XwFLYqhwX2hg, Y5S_AUSW8EjswVf9JAi-0w]</td>\n",
       "    </tr>\n",
       "    <tr>\n",
       "      <th>3</th>\n",
       "      <td>--1oZcRo9-QKOtTqREKB6g</td>\n",
       "      <td>[p_qSQwShIgQnNxGcajI4-w, QHWYlmVbLC3K6eglWoHVvA]</td>\n",
       "    </tr>\n",
       "    <tr>\n",
       "      <th>4</th>\n",
       "      <td>--2bpE5vyR-2hAP7sZZ4lA</td>\n",
       "      <td>[BjBDHqHhMXSxgyVipccznQ, TV81bpCQ6p6o4Hau5hk-z...</td>\n",
       "    </tr>\n",
       "    <tr>\n",
       "      <th>...</th>\n",
       "      <td>...</td>\n",
       "      <td>...</td>\n",
       "    </tr>\n",
       "    <tr>\n",
       "      <th>252113</th>\n",
       "      <td>zzrhWsiCwAKQzbgMZIOtgg</td>\n",
       "      <td>[vpLMV6pHa1oI71jYaCVFzA, zvixukO8M4PCmMMaZOldPg]</td>\n",
       "    </tr>\n",
       "    <tr>\n",
       "      <th>252114</th>\n",
       "      <td>zzu2hGJ6O9mP5yg6fjtvzg</td>\n",
       "      <td>[4bvQThX0cJxlx67PU9nmLQ, TwnzM8mJn_nT2PJf1x-9k...</td>\n",
       "    </tr>\n",
       "    <tr>\n",
       "      <th>252115</th>\n",
       "      <td>zzvCl_egPyWpxO7EvWc2IA</td>\n",
       "      <td>[pW5DXTpKnw3y0fopipbJVg, t9P1At2Cw8PO5NdjIZjrK...</td>\n",
       "    </tr>\n",
       "    <tr>\n",
       "      <th>252116</th>\n",
       "      <td>zzw0Z6-_VDp9ShIRSKIsQw</td>\n",
       "      <td>[9kjcWWo0pZ5qr1ZpAXBFnQ, gpTC5qka3HCQqnSyXloph...</td>\n",
       "    </tr>\n",
       "    <tr>\n",
       "      <th>252117</th>\n",
       "      <td>zzwYLnmIvj8C7wJmRjtkRA</td>\n",
       "      <td>[j-qtdD55OLfSqfsWuQTDJg, pXRrRf8fDv6yU3xp1E25hA]</td>\n",
       "    </tr>\n",
       "  </tbody>\n",
       "</table>\n",
       "<p>252118 rows × 2 columns</p>\n",
       "</div>"
      ],
      "text/plain": [
       "                       user_id  \\\n",
       "0       ---2PmXbF47D870stH1jqA   \n",
       "1       ---r61b7EpVPkb4UVme5tA   \n",
       "2       --0kuuLmuYBe3Rmu0Iycww   \n",
       "3       --1oZcRo9-QKOtTqREKB6g   \n",
       "4       --2bpE5vyR-2hAP7sZZ4lA   \n",
       "...                        ...   \n",
       "252113  zzrhWsiCwAKQzbgMZIOtgg   \n",
       "252114  zzu2hGJ6O9mP5yg6fjtvzg   \n",
       "252115  zzvCl_egPyWpxO7EvWc2IA   \n",
       "252116  zzw0Z6-_VDp9ShIRSKIsQw   \n",
       "252117  zzwYLnmIvj8C7wJmRjtkRA   \n",
       "\n",
       "                                              business_id  \n",
       "0       [hKameFsaXh9g8WQbv593UA, hKameFsaXh9g8WQbv593U...  \n",
       "1       [fGYnHzFr1z2kv7bPRW6VMA, 5UN1B7XqZohGuULLNlWL1...  \n",
       "2        [qcguEeAMP0XwFLYqhwX2hg, Y5S_AUSW8EjswVf9JAi-0w]  \n",
       "3        [p_qSQwShIgQnNxGcajI4-w, QHWYlmVbLC3K6eglWoHVvA]  \n",
       "4       [BjBDHqHhMXSxgyVipccznQ, TV81bpCQ6p6o4Hau5hk-z...  \n",
       "...                                                   ...  \n",
       "252113   [vpLMV6pHa1oI71jYaCVFzA, zvixukO8M4PCmMMaZOldPg]  \n",
       "252114  [4bvQThX0cJxlx67PU9nmLQ, TwnzM8mJn_nT2PJf1x-9k...  \n",
       "252115  [pW5DXTpKnw3y0fopipbJVg, t9P1At2Cw8PO5NdjIZjrK...  \n",
       "252116  [9kjcWWo0pZ5qr1ZpAXBFnQ, gpTC5qka3HCQqnSyXloph...  \n",
       "252117   [j-qtdD55OLfSqfsWuQTDJg, pXRrRf8fDv6yU3xp1E25hA]  \n",
       "\n",
       "[252118 rows x 2 columns]"
      ]
     },
     "execution_count": 7,
     "metadata": {},
     "output_type": "execute_result"
    }
   ],
   "source": [
    "visit_by_user = visit_by_user[visit_by_user['business_id'].apply(len) > 1].reset_index()\n",
    "print(f\"There're {len(visit_by_user)} users left after the filter\")\n",
    "visit_by_user"
   ]
  },
  {
   "cell_type": "markdown",
   "metadata": {},
   "source": [
    "For any pair of businesses $b1$ and $b2$, count the number of users in the review data who have visited both places. This is stored in a dictionary `edge_count` with tuple `(b1, b2)` (alphabetically sorted between b1 and b2) as keys and `num_users` as values."
   ]
  },
  {
   "cell_type": "code",
   "execution_count": 8,
   "metadata": {},
   "outputs": [
    {
     "name": "stdout",
     "output_type": "stream",
     "text": [
      "...0\n",
      "...10000\n",
      "...20000\n",
      "...30000\n",
      "...40000\n",
      "...50000\n",
      "...60000\n",
      "...70000\n",
      "...80000\n",
      "...90000\n",
      "...100000\n",
      "...110000\n",
      "...120000\n",
      "...130000\n",
      "...140000\n",
      "...150000\n",
      "...160000\n",
      "...170000\n",
      "...180000\n",
      "...190000\n",
      "...200000\n",
      "...210000\n",
      "...220000\n",
      "...230000\n",
      "...240000\n",
      "...250000\n"
     ]
    }
   ],
   "source": [
    "edge_count = {}\n",
    "for index, row in visit_by_user.iterrows():\n",
    "    for b1, b2 in combinations(sorted(row['business_id']), 2):\n",
    "        if (b1, b2) not in edge_count:\n",
    "            edge_count[b1, b2] = 1\n",
    "        else:\n",
    "            edge_count[b1, b2] += 1\n",
    "    if index % 10000 == 0:\n",
    "        print(f\"...{index}\")"
   ]
  },
  {
   "cell_type": "code",
   "execution_count": 9,
   "metadata": {},
   "outputs": [
    {
     "name": "stdout",
     "output_type": "stream",
     "text": [
      "Total number of business pairs: 20653315\n"
     ]
    }
   ],
   "source": [
    "print(f\"Total number of business pairs: {len(edge_count)}\")"
   ]
  },
  {
   "cell_type": "code",
   "execution_count": 10,
   "metadata": {},
   "outputs": [
    {
     "data": {
      "text/html": [
       "<div>\n",
       "<style scoped>\n",
       "    .dataframe tbody tr th:only-of-type {\n",
       "        vertical-align: middle;\n",
       "    }\n",
       "\n",
       "    .dataframe tbody tr th {\n",
       "        vertical-align: top;\n",
       "    }\n",
       "\n",
       "    .dataframe thead th {\n",
       "        text-align: right;\n",
       "    }\n",
       "</style>\n",
       "<table border=\"1\" class=\"dataframe\">\n",
       "  <thead>\n",
       "    <tr style=\"text-align: right;\">\n",
       "      <th></th>\n",
       "      <th>b1</th>\n",
       "      <th>b2</th>\n",
       "      <th>num_users</th>\n",
       "    </tr>\n",
       "  </thead>\n",
       "  <tbody>\n",
       "    <tr>\n",
       "      <th>0</th>\n",
       "      <td>0ZsqqzHu1HHkDdIKoivi5g</td>\n",
       "      <td>1An4DxtMmvvSe0HX4viRCA</td>\n",
       "      <td>4</td>\n",
       "    </tr>\n",
       "    <tr>\n",
       "      <th>1</th>\n",
       "      <td>0ZsqqzHu1HHkDdIKoivi5g</td>\n",
       "      <td>3YqUe2FTCQr0pPVK8oCv6Q</td>\n",
       "      <td>105</td>\n",
       "    </tr>\n",
       "    <tr>\n",
       "      <th>2</th>\n",
       "      <td>0ZsqqzHu1HHkDdIKoivi5g</td>\n",
       "      <td>3gXgILE2YWVidJDvVWBT6Q</td>\n",
       "      <td>6</td>\n",
       "    </tr>\n",
       "    <tr>\n",
       "      <th>3</th>\n",
       "      <td>0ZsqqzHu1HHkDdIKoivi5g</td>\n",
       "      <td>HpWi2CRJlxVCYKd8kS0X-A</td>\n",
       "      <td>4</td>\n",
       "    </tr>\n",
       "    <tr>\n",
       "      <th>4</th>\n",
       "      <td>0ZsqqzHu1HHkDdIKoivi5g</td>\n",
       "      <td>KP5OncF2jhT7_J1phHPPww</td>\n",
       "      <td>69</td>\n",
       "    </tr>\n",
       "    <tr>\n",
       "      <th>...</th>\n",
       "      <td>...</td>\n",
       "      <td>...</td>\n",
       "      <td>...</td>\n",
       "    </tr>\n",
       "    <tr>\n",
       "      <th>20653310</th>\n",
       "      <td>KzSL2VzyT7bdHd0bhMyanw</td>\n",
       "      <td>sQhh7JCGpqNgf0hHWc4m8g</td>\n",
       "      <td>1</td>\n",
       "    </tr>\n",
       "    <tr>\n",
       "      <th>20653311</th>\n",
       "      <td>KzSL2VzyT7bdHd0bhMyanw</td>\n",
       "      <td>t9P1At2Cw8PO5NdjIZjrKA</td>\n",
       "      <td>1</td>\n",
       "    </tr>\n",
       "    <tr>\n",
       "      <th>20653312</th>\n",
       "      <td>pW5DXTpKnw3y0fopipbJVg</td>\n",
       "      <td>t9P1At2Cw8PO5NdjIZjrKA</td>\n",
       "      <td>1</td>\n",
       "    </tr>\n",
       "    <tr>\n",
       "      <th>20653313</th>\n",
       "      <td>9kjcWWo0pZ5qr1ZpAXBFnQ</td>\n",
       "      <td>d9gvn2Nu_0qFzQLhAP9XFQ</td>\n",
       "      <td>1</td>\n",
       "    </tr>\n",
       "    <tr>\n",
       "      <th>20653314</th>\n",
       "      <td>d9gvn2Nu_0qFzQLhAP9XFQ</td>\n",
       "      <td>gpTC5qka3HCQqnSyXlophg</td>\n",
       "      <td>1</td>\n",
       "    </tr>\n",
       "  </tbody>\n",
       "</table>\n",
       "<p>20653315 rows × 3 columns</p>\n",
       "</div>"
      ],
      "text/plain": [
       "                              b1                      b2  num_users\n",
       "0         0ZsqqzHu1HHkDdIKoivi5g  1An4DxtMmvvSe0HX4viRCA          4\n",
       "1         0ZsqqzHu1HHkDdIKoivi5g  3YqUe2FTCQr0pPVK8oCv6Q        105\n",
       "2         0ZsqqzHu1HHkDdIKoivi5g  3gXgILE2YWVidJDvVWBT6Q          6\n",
       "3         0ZsqqzHu1HHkDdIKoivi5g  HpWi2CRJlxVCYKd8kS0X-A          4\n",
       "4         0ZsqqzHu1HHkDdIKoivi5g  KP5OncF2jhT7_J1phHPPww         69\n",
       "...                          ...                     ...        ...\n",
       "20653310  KzSL2VzyT7bdHd0bhMyanw  sQhh7JCGpqNgf0hHWc4m8g          1\n",
       "20653311  KzSL2VzyT7bdHd0bhMyanw  t9P1At2Cw8PO5NdjIZjrKA          1\n",
       "20653312  pW5DXTpKnw3y0fopipbJVg  t9P1At2Cw8PO5NdjIZjrKA          1\n",
       "20653313  9kjcWWo0pZ5qr1ZpAXBFnQ  d9gvn2Nu_0qFzQLhAP9XFQ          1\n",
       "20653314  d9gvn2Nu_0qFzQLhAP9XFQ  gpTC5qka3HCQqnSyXlophg          1\n",
       "\n",
       "[20653315 rows x 3 columns]"
      ]
     },
     "execution_count": 10,
     "metadata": {},
     "output_type": "execute_result"
    }
   ],
   "source": [
    "busi_pairs = edge_count.keys()\n",
    "num_users = edge_count.values()\n",
    "busi1 = [b[0] for b in busi_pairs]\n",
    "busi2 = [b[1] for b in busi_pairs]\n",
    "edge_df = pd.DataFrame({'b1': busi1,\n",
    "                        'b2': busi2,\n",
    "                        'num_users': num_users})\n",
    "edge_df"
   ]
  },
  {
   "cell_type": "code",
   "execution_count": 14,
   "metadata": {
    "collapsed": true
   },
   "outputs": [],
   "source": [
    "edge_df.sort_values('num_users', ascending = False, inplace = True)"
   ]
  },
  {
   "cell_type": "code",
   "execution_count": 12,
   "metadata": {
    "collapsed": true
   },
   "outputs": [],
   "source": [
    "edge_df.to_feather(\"data/business_edge_user_count.feather\")"
   ]
  },
  {
   "cell_type": "markdown",
   "metadata": {},
   "source": [
    "### Construct the network graph\n",
    "\n",
    "Vertices = businesses (approximately 27K businesses)\n",
    "\n",
    "Edges = There's an edge between $i$ and $j$ if the number of users are more than xx.\n",
    "\n",
    "Note: See https://networkx.org/documentation/latest/reference/introduction.html#networkx-basics for `nx` package documentation"
   ]
  },
  {
   "cell_type": "markdown",
   "metadata": {},
   "source": [
    "To determine an edge, look at the distribution of `num_users`.\n",
    "\n",
    "Couldn't plot a histogram, probably because it's highly skewed"
   ]
  },
  {
   "cell_type": "code",
   "execution_count": 2,
   "metadata": {},
   "outputs": [],
   "source": [
    "edge_df = pd.read_feather(\"data/business_edge_user_count.feather\")"
   ]
  },
  {
   "cell_type": "code",
   "execution_count": 3,
   "metadata": {},
   "outputs": [
    {
     "data": {
      "text/html": [
       "<div>\n",
       "<style scoped>\n",
       "    .dataframe tbody tr th:only-of-type {\n",
       "        vertical-align: middle;\n",
       "    }\n",
       "\n",
       "    .dataframe tbody tr th {\n",
       "        vertical-align: top;\n",
       "    }\n",
       "\n",
       "    .dataframe thead th {\n",
       "        text-align: right;\n",
       "    }\n",
       "</style>\n",
       "<table border=\"1\" class=\"dataframe\">\n",
       "  <thead>\n",
       "    <tr style=\"text-align: right;\">\n",
       "      <th></th>\n",
       "      <th>num_users</th>\n",
       "    </tr>\n",
       "  </thead>\n",
       "  <tbody>\n",
       "    <tr>\n",
       "      <th>count</th>\n",
       "      <td>2.065332e+07</td>\n",
       "    </tr>\n",
       "    <tr>\n",
       "      <th>mean</th>\n",
       "      <td>2.321564e+00</td>\n",
       "    </tr>\n",
       "    <tr>\n",
       "      <th>std</th>\n",
       "      <td>3.913244e+00</td>\n",
       "    </tr>\n",
       "    <tr>\n",
       "      <th>min</th>\n",
       "      <td>1.000000e+00</td>\n",
       "    </tr>\n",
       "    <tr>\n",
       "      <th>25%</th>\n",
       "      <td>1.000000e+00</td>\n",
       "    </tr>\n",
       "    <tr>\n",
       "      <th>50%</th>\n",
       "      <td>1.000000e+00</td>\n",
       "    </tr>\n",
       "    <tr>\n",
       "      <th>75%</th>\n",
       "      <td>2.000000e+00</td>\n",
       "    </tr>\n",
       "    <tr>\n",
       "      <th>max</th>\n",
       "      <td>1.446000e+03</td>\n",
       "    </tr>\n",
       "  </tbody>\n",
       "</table>\n",
       "</div>"
      ],
      "text/plain": [
       "          num_users\n",
       "count  2.065332e+07\n",
       "mean   2.321564e+00\n",
       "std    3.913244e+00\n",
       "min    1.000000e+00\n",
       "25%    1.000000e+00\n",
       "50%    1.000000e+00\n",
       "75%    2.000000e+00\n",
       "max    1.446000e+03"
      ]
     },
     "execution_count": 3,
     "metadata": {},
     "output_type": "execute_result"
    }
   ],
   "source": [
    "edge_df.describe()"
   ]
  },
  {
   "cell_type": "code",
   "execution_count": 22,
   "metadata": {},
   "outputs": [
    {
     "name": "stderr",
     "output_type": "stream",
     "text": [
      "/Users/runlanlana/opt/anaconda3/envs/ds_harvard/lib/python3.10/site-packages/seaborn/axisgrid.py:123: UserWarning: The figure layout has changed to tight\n",
      "  self._figure.tight_layout(*args, **kwargs)\n"
     ]
    },
    {
     "data": {
      "image/png": "[encoded data removed]",
      "text/plain": [
       "<Figure size 500x500 with 1 Axes>"
      ]
     },
     "metadata": {},
     "output_type": "display_data"
    }
   ],
   "source": [
    "sns.displot(data = edge_df, x = \"num_users\")\n",
    "plt.yscale('log')"
   ]
  },
  {
   "cell_type": "code",
   "execution_count": 26,
   "metadata": {},
   "outputs": [
    {
     "name": "stdout",
     "output_type": "stream",
     "text": [
      "If cutoff = 1, there will be 20653315 edges\n",
      "If cutoff = 5, there will be 1974099 edges\n",
      "If cutoff = 10, there will be 588147 edges\n",
      "If cutoff = 20, there will be 151273 edges\n",
      "If cutoff = 50, there will be 18145 edges\n",
      "If cutoff = 100, there will be 2471 edges\n"
     ]
    }
   ],
   "source": [
    "for cutoff in [1, 5, 10, 20, 50, 100]:\n",
    "    print(f\"If cutoff = {cutoff}, there will be {len(edge_df[edge_df['num_users'] >= cutoff])} edges\")"
   ]
  },
  {
   "cell_type": "markdown",
   "metadata": {},
   "source": [
    "Since there's about 27K businesses (vertices), probably should take the cutoff = 5 for the existence of an edge"
   ]
  },
  {
   "cell_type": "code",
   "execution_count": 4,
   "metadata": {
    "collapsed": true
   },
   "outputs": [],
   "source": [
    "cutoff = 5\n",
    "edge_subset = edge_df[edge_df['num_users'] >= cutoff]\n",
    "edge_list = list(zip(*map(edge_subset.get, ['b1', 'b2', 'num_users'])))"
   ]
  },
  {
   "cell_type": "code",
   "execution_count": 5,
   "metadata": {
    "collapsed": true
   },
   "outputs": [],
   "source": [
    "G = nx.Graph()\n",
    "G.add_weighted_edges_from(edge_list) # or use G.add_edges_from(edge_list) for unweifhted graph"
   ]
  },
  {
   "cell_type": "code",
   "execution_count": null,
   "metadata": {
    "collapsed": true
   },
   "outputs": [],
   "source": [
    "deg_assort = nx.degree_assortativity_coefficient(G, x = 'out', y = 'out')\n",
    "print(f\"The network has degree assortativity: {deg_assort}\")"
   ]
  },
  {
   "cell_type": "code",
   "execution_count": null,
   "metadata": {
    "collapsed": true
   },
   "outputs": [],
   "source": [
    "nx.degree_histogram(G)"
   ]
  },
  {
   "cell_type": "markdown",
   "metadata": {},
   "source": [
    "This graph will be referred to as \"fully observed graph\""
   ]
  },
  {
   "cell_type": "markdown",
   "metadata": {},
   "source": [
    "## Network visualization"
   ]
  },
  {
   "cell_type": "code",
   "execution_count": null,
   "metadata": {},
   "outputs": [],
   "source": [
    "elarge = [(u, v) for (u, v, d) in G.edges(data = True) if d[\"weight\"] > 100]\n",
    "esmall = [(u, v) for (u, v, d) in G.edges(data = True) if d[\"weight\"] <= 100]\n",
    "\n",
    "pos = nx.spring_layout(G)  # positions for all nodes - seed for reproducibility\n",
    "\n",
    "# nodes\n",
    "nx.draw_networkx_nodes(G, pos, node_size=700)\n",
    "\n",
    "# edges\n",
    "nx.draw_networkx_edges(G, pos, edgelist = elarge, width=6)\n",
    "nx.draw_networkx_edges(\n",
    "    G, pos, edgelist = esmall, width=6, alpha=0.5, edge_color=\"b\", style=\"dashed\"\n",
    ")\n",
    "\n",
    "# node labels\n",
    "nx.draw_networkx_labels(G, pos, font_size=20, font_family=\"sans-serif\")\n",
    "# edge weight labels\n",
    "edge_labels = nx.get_edge_attributes(G, \"weight\")\n",
    "nx.draw_networkx_edge_labels(G, pos, edge_labels)\n",
    "\n",
    "ax = plt.gca()\n",
    "ax.margins(0.08)\n",
    "plt.axis(\"off\")\n",
    "plt.tight_layout()\n",
    "plt.show()"
   ]
  },
  {
   "cell_type": "code",
   "execution_count": null,
   "metadata": {},
   "outputs": [],
   "source": [
    "# # G = nx.cubical_graph()\n",
    "# plt.clf()\n",
    "# subax1 = plt.subplot(121)\n",
    "# nx.draw(G)   # default spring_layout\n",
    "# # nx.draw(G, pos=nx.circular_layout(G), node_color='r', edge_color='b')"
   ]
  },
  {
   "cell_type": "markdown",
   "metadata": {},
   "source": [
    "## Split Train and Test\n",
    "\n",
    "Randomly select 25% of the existing edges to reserve as the test set $E_T$. The train network will include all vertices and the edges $E-E_T$. The task is to predict the edges in $E_T$ given the similarities among existing nodes in `g_train`."
   ]
  },
  {
   "cell_type": "code",
   "execution_count": null,
   "metadata": {
    "collapsed": true
   },
   "outputs": [],
   "source": [
    "train_edges, test_edges = train_test_split(edge_list, test_size = 0.25)\n",
    "# g_train = nx.induced_subgraph(G, selected_nodes)\n",
    "g_train = nx.Graph()\n",
    "g_train.add_nodes_from(G.nodes)\n",
    "g_train.add_weighted_edges_from(test_edges)"
   ]
  },
  {
   "cell_type": "markdown",
   "metadata": {},
   "source": [
    "## Compute similarity scores using different approaches"
   ]
  },
  {
   "cell_type": "markdown",
   "metadata": {},
   "source": []
  }
 ],
 "metadata": {
  "kernelspec": {
   "display_name": "Python 3",
   "language": "python",
   "name": "python3"
  },
  "language_info": {
   "codemirror_mode": {
    "name": "ipython",
    "version": 3
   },
   "file_extension": ".py",
   "mimetype": "text/x-python",
   "name": "python",
   "nbconvert_exporter": "python",
   "pygments_lexer": "ipython3",
   "version": "3.6.3"
  }
 },
 "nbformat": 4,
 "nbformat_minor": 2
}
